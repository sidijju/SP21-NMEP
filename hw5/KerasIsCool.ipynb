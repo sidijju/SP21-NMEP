{
 "cells": [
  {
   "cell_type": "code",
   "execution_count": 1,
   "metadata": {},
   "outputs": [
    {
     "name": "stderr",
     "output_type": "stream",
     "text": [
      "Using TensorFlow backend.\n",
      "/opt/anaconda3/envs/nmep/lib/python3.7/site-packages/tensorflow/python/framework/dtypes.py:516: FutureWarning: Passing (type, 1) or '1type' as a synonym of type is deprecated; in a future version of numpy, it will be understood as (type, (1,)) / '(1,)type'.\n",
      "  _np_qint8 = np.dtype([(\"qint8\", np.int8, 1)])\n",
      "/opt/anaconda3/envs/nmep/lib/python3.7/site-packages/tensorflow/python/framework/dtypes.py:517: FutureWarning: Passing (type, 1) or '1type' as a synonym of type is deprecated; in a future version of numpy, it will be understood as (type, (1,)) / '(1,)type'.\n",
      "  _np_quint8 = np.dtype([(\"quint8\", np.uint8, 1)])\n",
      "/opt/anaconda3/envs/nmep/lib/python3.7/site-packages/tensorflow/python/framework/dtypes.py:518: FutureWarning: Passing (type, 1) or '1type' as a synonym of type is deprecated; in a future version of numpy, it will be understood as (type, (1,)) / '(1,)type'.\n",
      "  _np_qint16 = np.dtype([(\"qint16\", np.int16, 1)])\n",
      "/opt/anaconda3/envs/nmep/lib/python3.7/site-packages/tensorflow/python/framework/dtypes.py:519: FutureWarning: Passing (type, 1) or '1type' as a synonym of type is deprecated; in a future version of numpy, it will be understood as (type, (1,)) / '(1,)type'.\n",
      "  _np_quint16 = np.dtype([(\"quint16\", np.uint16, 1)])\n",
      "/opt/anaconda3/envs/nmep/lib/python3.7/site-packages/tensorflow/python/framework/dtypes.py:520: FutureWarning: Passing (type, 1) or '1type' as a synonym of type is deprecated; in a future version of numpy, it will be understood as (type, (1,)) / '(1,)type'.\n",
      "  _np_qint32 = np.dtype([(\"qint32\", np.int32, 1)])\n",
      "/opt/anaconda3/envs/nmep/lib/python3.7/site-packages/tensorflow/python/framework/dtypes.py:525: FutureWarning: Passing (type, 1) or '1type' as a synonym of type is deprecated; in a future version of numpy, it will be understood as (type, (1,)) / '(1,)type'.\n",
      "  np_resource = np.dtype([(\"resource\", np.ubyte, 1)])\n",
      "/opt/anaconda3/envs/nmep/lib/python3.7/site-packages/tensorboard/compat/tensorflow_stub/dtypes.py:541: FutureWarning: Passing (type, 1) or '1type' as a synonym of type is deprecated; in a future version of numpy, it will be understood as (type, (1,)) / '(1,)type'.\n",
      "  _np_qint8 = np.dtype([(\"qint8\", np.int8, 1)])\n",
      "/opt/anaconda3/envs/nmep/lib/python3.7/site-packages/tensorboard/compat/tensorflow_stub/dtypes.py:542: FutureWarning: Passing (type, 1) or '1type' as a synonym of type is deprecated; in a future version of numpy, it will be understood as (type, (1,)) / '(1,)type'.\n",
      "  _np_quint8 = np.dtype([(\"quint8\", np.uint8, 1)])\n",
      "/opt/anaconda3/envs/nmep/lib/python3.7/site-packages/tensorboard/compat/tensorflow_stub/dtypes.py:543: FutureWarning: Passing (type, 1) or '1type' as a synonym of type is deprecated; in a future version of numpy, it will be understood as (type, (1,)) / '(1,)type'.\n",
      "  _np_qint16 = np.dtype([(\"qint16\", np.int16, 1)])\n",
      "/opt/anaconda3/envs/nmep/lib/python3.7/site-packages/tensorboard/compat/tensorflow_stub/dtypes.py:544: FutureWarning: Passing (type, 1) or '1type' as a synonym of type is deprecated; in a future version of numpy, it will be understood as (type, (1,)) / '(1,)type'.\n",
      "  _np_quint16 = np.dtype([(\"quint16\", np.uint16, 1)])\n",
      "/opt/anaconda3/envs/nmep/lib/python3.7/site-packages/tensorboard/compat/tensorflow_stub/dtypes.py:545: FutureWarning: Passing (type, 1) or '1type' as a synonym of type is deprecated; in a future version of numpy, it will be understood as (type, (1,)) / '(1,)type'.\n",
      "  _np_qint32 = np.dtype([(\"qint32\", np.int32, 1)])\n",
      "/opt/anaconda3/envs/nmep/lib/python3.7/site-packages/tensorboard/compat/tensorflow_stub/dtypes.py:550: FutureWarning: Passing (type, 1) or '1type' as a synonym of type is deprecated; in a future version of numpy, it will be understood as (type, (1,)) / '(1,)type'.\n",
      "  np_resource = np.dtype([(\"resource\", np.ubyte, 1)])\n"
     ]
    }
   ],
   "source": [
    "import keras\n",
    "import numpy as np"
   ]
  },
  {
   "cell_type": "markdown",
   "metadata": {},
   "source": [
    "# Keras\n",
    "\n",
    "##### By: (The one and only) James Bartlett, Edited by Ashley Chien\n",
    "\n",
    "Keras is a neural network framework that wraps tensorflow (if you haven't heard of tensorflow it's another neural network framework) and makes it really simple to implement common neural networks. Its philosophy is to make simple things easy (but beware, trying to implement uncommon, custom neural networks can be pretty challenging in Keras, for the purposes of this course you will never have to that though so don't worry about it). If you are ever confused during this homework, Keras has really good documentation, so you can go to [Keras Docs](https://keras.io)."
   ]
  },
  {
   "cell_type": "markdown",
   "metadata": {},
   "source": [
    "# Datasets\n",
    "Keras has many datasets conveniently built in to the library. We can access them from the ``keras.datasets`` module. For this homework, we will be using their housing price dataset, their image classification dataset and their movie review sentiment dataset. To get a full list of their datasets, you can go to this link. [Keras Datasets](https://keras.io/datasets). To use their datasets, we import them and then call ``load_data()``, load_data returns two tuples, the first one is training data, and the second one is testing data. See the example below"
   ]
  },
  {
   "cell_type": "code",
   "execution_count": 2,
   "metadata": {},
   "outputs": [],
   "source": [
    "from keras.datasets import boston_housing\n",
    "(x_train, y_train), (x_test, y_test) = boston_housing.load_data()"
   ]
  },
  {
   "cell_type": "markdown",
   "metadata": {},
   "source": [
    "You can also choose the proportion of training data you would like."
   ]
  },
  {
   "cell_type": "code",
   "execution_count": 3,
   "metadata": {},
   "outputs": [
    {
     "name": "stdout",
     "output_type": "stream",
     "text": [
      "Size of training set before:  (404, 13)\n",
      "Size of training set after:  (455, 13)\n"
     ]
    }
   ],
   "source": [
    "print(\"Size of training set before: \", x_train.shape)\n",
    "(x_train, y_train), (x_test, y_test) = boston_housing.load_data(test_split=0.10)\n",
    "print(\"Size of training set after: \", x_train.shape)"
   ]
  },
  {
   "cell_type": "code",
   "execution_count": 4,
   "metadata": {},
   "outputs": [],
   "source": [
    "from keras.utils import normalize\n",
    "x_train = normalize(x_train, axis=1)\n",
    "x_test = normalize(x_test, axis=1)"
   ]
  },
  {
   "cell_type": "markdown",
   "metadata": {},
   "source": [
    "# Models\n",
    "Every thing in Keras starts out with a model. From an initial model, we can add layers, train the model on data, evaluate the model on test sets, etc. We initialize a model with ``Sequential()``. `Sequential` refers to the fact that the model has a sequence of layers. Personally, I have very rarely used anything other than `Sequential`, so I think it's all you really need to worry about."
   ]
  },
  {
   "cell_type": "code",
   "execution_count": 5,
   "metadata": {},
   "outputs": [],
   "source": [
    "from keras.models import Sequential\n",
    "model = Sequential()"
   ]
  },
  {
   "cell_type": "markdown",
   "metadata": {},
   "source": [
    "Once we have a model, we can add layers to it with ``model.add``. Keras has a really good range of layers we can use. For example, if we want a basic fully connected layer we can use ``Dense``. I will now run through an example of using Keras to build and train a fully connected neural network for the purposes of regressing on housing prices for the dataset we loaded earlier."
   ]
  },
  {
   "cell_type": "code",
   "execution_count": 6,
   "metadata": {},
   "outputs": [],
   "source": [
    "from keras.layers import Dense\n",
    "model.add(Dense(16, input_shape=(13,)))"
   ]
  },
  {
   "cell_type": "markdown",
   "metadata": {},
   "source": [
    "This line of code adds a fully connected layer with 16 neurons. For the first layer of any model we always have to specify the input shape. In our case we will be training a fully connected network on the Boston Housing data, so each data point has 13 features. That's why we use an input_shape of (13,). The nice part about Keras is other than the input_shape for the first layer, we don't have to worry about shapes the rest of the time, Keras takes care of it. This can be really useful when you are doing complicated convolutions and things like that where working out the input shape to the next layer can be non-trivial."
   ]
  },
  {
   "cell_type": "markdown",
   "metadata": {},
   "source": [
    "Now let's add an Activation function to our network after our first fully connected layer."
   ]
  },
  {
   "cell_type": "code",
   "execution_count": 7,
   "metadata": {},
   "outputs": [],
   "source": [
    "from keras.layers import Activation\n",
    "model.add(Activation('relu'))"
   ]
  },
  {
   "cell_type": "markdown",
   "metadata": {},
   "source": [
    "Simple as that. We just added a relu activation to the whole layer. To see a list of activation functions available in Keras go to [Keras Activations](https://keras.io/activations/). Now let's add the final layer in our model."
   ]
  },
  {
   "cell_type": "code",
   "execution_count": 8,
   "metadata": {},
   "outputs": [],
   "source": [
    "model.add(Dense(1))"
   ]
  },
  {
   "cell_type": "markdown",
   "metadata": {},
   "source": [
    "Now we can use a handy utility in Keras to print out what our model looks like so far."
   ]
  },
  {
   "cell_type": "code",
   "execution_count": 9,
   "metadata": {},
   "outputs": [
    {
     "name": "stdout",
     "output_type": "stream",
     "text": [
      "Model: \"sequential_1\"\n",
      "_________________________________________________________________\n",
      "Layer (type)                 Output Shape              Param #   \n",
      "=================================================================\n",
      "dense_1 (Dense)              (None, 16)                224       \n",
      "_________________________________________________________________\n",
      "activation_1 (Activation)    (None, 16)                0         \n",
      "_________________________________________________________________\n",
      "dense_2 (Dense)              (None, 1)                 17        \n",
      "=================================================================\n",
      "Total params: 241\n",
      "Trainable params: 241\n",
      "Non-trainable params: 0\n",
      "_________________________________________________________________\n"
     ]
    }
   ],
   "source": [
    "model.summary()"
   ]
  },
  {
   "cell_type": "markdown",
   "metadata": {},
   "source": [
    "You can see it shows us what layers we have, the output shapes of each layer, and how many parameters there are for each layer. All this information can be really useful when trying to debug a model, or even for sharing your model architecture with others."
   ]
  },
  {
   "cell_type": "markdown",
   "metadata": {},
   "source": [
    "# Training\n",
    "Now for actually training the model. Before we train a model we have to compile it. ``model.compile`` is how you specify which optimizer to use and what loss function to use. Sometimes choosing the right optimizer can have a significant effect on model performance. For a list of optimizers look at [Keras Optimizers](https://keras.io/optimizers). Choosing the right optimizer is mostly just trying each one to see which works better; there is some general advice for when to use each one but it is basically just another hyperparameter. We also have to choose a loss function. Choosing the right loss function is really important because the loss function decides what the goal of the model is. Since we are doing regression, we want to choose mean squared error, to get our output to be as close as possible to the label.  "
   ]
  },
  {
   "cell_type": "code",
   "execution_count": 10,
   "metadata": {},
   "outputs": [],
   "source": [
    "model.compile(optimizer='SGD', loss='mean_squared_error')"
   ]
  },
  {
   "cell_type": "markdown",
   "metadata": {},
   "source": [
    "Now we have to actually train our model on the data. This is really easy in Keras, in fact it only takes one line of code."
   ]
  },
  {
   "cell_type": "code",
   "execution_count": 11,
   "metadata": {},
   "outputs": [
    {
     "name": "stdout",
     "output_type": "stream",
     "text": [
      "WARNING:tensorflow:From /opt/anaconda3/envs/nmep/lib/python3.7/site-packages/keras/backend/tensorflow_backend.py:422: The name tf.global_variables is deprecated. Please use tf.compat.v1.global_variables instead.\n",
      "\n",
      "Epoch 1/100\n",
      "455/455 [==============================] - 0s 451us/step - loss: 182.9595\n",
      "Epoch 2/100\n",
      "455/455 [==============================] - 0s 50us/step - loss: 74.0479\n",
      "Epoch 3/100\n",
      "455/455 [==============================] - 0s 53us/step - loss: 67.6902\n",
      "Epoch 4/100\n",
      "455/455 [==============================] - 0s 66us/step - loss: 72.0956\n",
      "Epoch 5/100\n",
      "455/455 [==============================] - 0s 51us/step - loss: 66.9180\n",
      "Epoch 6/100\n",
      "455/455 [==============================] - 0s 46us/step - loss: 67.2551\n",
      "Epoch 7/100\n",
      "455/455 [==============================] - 0s 87us/step - loss: 63.0274\n",
      "Epoch 8/100\n",
      "455/455 [==============================] - 0s 121us/step - loss: 64.7574\n",
      "Epoch 9/100\n",
      "455/455 [==============================] - 0s 104us/step - loss: 66.5159\n",
      "Epoch 10/100\n",
      "455/455 [==============================] - 0s 58us/step - loss: 66.2462\n",
      "Epoch 11/100\n",
      "455/455 [==============================] - 0s 98us/step - loss: 62.2943\n",
      "Epoch 12/100\n",
      "455/455 [==============================] - 0s 144us/step - loss: 62.6285\n",
      "Epoch 13/100\n",
      "455/455 [==============================] - 0s 168us/step - loss: 70.9652\n",
      "Epoch 14/100\n",
      "455/455 [==============================] - 0s 43us/step - loss: 63.1233\n",
      "Epoch 15/100\n",
      "455/455 [==============================] - 0s 37us/step - loss: 66.4547\n",
      "Epoch 16/100\n",
      "455/455 [==============================] - 0s 52us/step - loss: 66.4189\n",
      "Epoch 17/100\n",
      "455/455 [==============================] - 0s 45us/step - loss: 63.5581\n",
      "Epoch 18/100\n",
      "455/455 [==============================] - 0s 46us/step - loss: 62.8699\n",
      "Epoch 19/100\n",
      "455/455 [==============================] - 0s 106us/step - loss: 60.9200\n",
      "Epoch 20/100\n",
      "455/455 [==============================] - 0s 216us/step - loss: 60.1789\n",
      "Epoch 21/100\n",
      "455/455 [==============================] - 0s 38us/step - loss: 62.9729\n",
      "Epoch 22/100\n",
      "455/455 [==============================] - 0s 49us/step - loss: 62.3292\n",
      "Epoch 23/100\n",
      "455/455 [==============================] - 0s 45us/step - loss: 64.6639\n",
      "Epoch 24/100\n",
      "455/455 [==============================] - 0s 45us/step - loss: 59.8867\n",
      "Epoch 25/100\n",
      "455/455 [==============================] - 0s 56us/step - loss: 60.9170\n",
      "Epoch 26/100\n",
      "455/455 [==============================] - 0s 170us/step - loss: 66.5684\n",
      "Epoch 27/100\n",
      "455/455 [==============================] - 0s 66us/step - loss: 64.8174\n",
      "Epoch 28/100\n",
      "455/455 [==============================] - 0s 287us/step - loss: 65.4884\n",
      "Epoch 29/100\n",
      "455/455 [==============================] - 0s 82us/step - loss: 58.0043\n",
      "Epoch 30/100\n",
      "455/455 [==============================] - 0s 75us/step - loss: 83.3471\n",
      "Epoch 31/100\n",
      "455/455 [==============================] - 0s 65us/step - loss: 61.7597\n",
      "Epoch 32/100\n",
      "455/455 [==============================] - 0s 70us/step - loss: 60.9958\n",
      "Epoch 33/100\n",
      "455/455 [==============================] - 0s 92us/step - loss: 62.4180\n",
      "Epoch 34/100\n",
      "455/455 [==============================] - 0s 196us/step - loss: 64.3919\n",
      "Epoch 35/100\n",
      "455/455 [==============================] - 0s 253us/step - loss: 63.4313\n",
      "Epoch 36/100\n",
      "455/455 [==============================] - 0s 154us/step - loss: 62.2137\n",
      "Epoch 37/100\n",
      "455/455 [==============================] - 0s 59us/step - loss: 59.5923\n",
      "Epoch 38/100\n",
      "455/455 [==============================] - 0s 54us/step - loss: 62.3363\n",
      "Epoch 39/100\n",
      "455/455 [==============================] - 0s 61us/step - loss: 65.8169\n",
      "Epoch 40/100\n",
      "455/455 [==============================] - 0s 278us/step - loss: 62.1075\n",
      "Epoch 41/100\n",
      "455/455 [==============================] - 0s 69us/step - loss: 60.6040\n",
      "Epoch 42/100\n",
      "455/455 [==============================] - 0s 52us/step - loss: 59.9130\n",
      "Epoch 43/100\n",
      "455/455 [==============================] - 0s 59us/step - loss: 56.9356\n",
      "Epoch 44/100\n",
      "455/455 [==============================] - 0s 60us/step - loss: 61.7797\n",
      "Epoch 45/100\n",
      "455/455 [==============================] - 0s 226us/step - loss: 65.0558\n",
      "Epoch 46/100\n",
      "455/455 [==============================] - 0s 154us/step - loss: 62.2093\n",
      "Epoch 47/100\n",
      "455/455 [==============================] - 0s 74us/step - loss: 59.6014\n",
      "Epoch 48/100\n",
      "455/455 [==============================] - 0s 72us/step - loss: 61.6382\n",
      "Epoch 49/100\n",
      "455/455 [==============================] - 0s 107us/step - loss: 57.8949\n",
      "Epoch 50/100\n",
      "455/455 [==============================] - 0s 190us/step - loss: 64.8400\n",
      "Epoch 51/100\n",
      "455/455 [==============================] - 0s 92us/step - loss: 57.5594\n",
      "Epoch 52/100\n",
      "455/455 [==============================] - 0s 44us/step - loss: 59.1803\n",
      "Epoch 53/100\n",
      "455/455 [==============================] - 0s 36us/step - loss: 59.6680\n",
      "Epoch 54/100\n",
      "455/455 [==============================] - 0s 56us/step - loss: 60.5188\n",
      "Epoch 55/100\n",
      "455/455 [==============================] - 0s 75us/step - loss: 58.9109\n",
      "Epoch 56/100\n",
      "455/455 [==============================] - 0s 79us/step - loss: 58.8913\n",
      "Epoch 57/100\n",
      "455/455 [==============================] - 0s 90us/step - loss: 57.4897\n",
      "Epoch 58/100\n",
      "455/455 [==============================] - 0s 206us/step - loss: 58.5241\n",
      "Epoch 59/100\n",
      "455/455 [==============================] - 0s 103us/step - loss: 59.4390\n",
      "Epoch 60/100\n",
      "455/455 [==============================] - 0s 61us/step - loss: 57.3134\n",
      "Epoch 61/100\n",
      "455/455 [==============================] - 0s 244us/step - loss: 66.0301\n",
      "Epoch 62/100\n",
      "455/455 [==============================] - 0s 114us/step - loss: 60.1145\n",
      "Epoch 63/100\n",
      "455/455 [==============================] - 0s 52us/step - loss: 60.9844\n",
      "Epoch 64/100\n",
      "455/455 [==============================] - 0s 156us/step - loss: 61.3932\n",
      "Epoch 65/100\n",
      "455/455 [==============================] - 0s 125us/step - loss: 56.4848\n",
      "Epoch 66/100\n",
      "455/455 [==============================] - 0s 89us/step - loss: 59.5100\n",
      "Epoch 67/100\n",
      "455/455 [==============================] - 0s 43us/step - loss: 61.1895\n",
      "Epoch 68/100\n",
      "455/455 [==============================] - 0s 61us/step - loss: 58.0281\n",
      "Epoch 69/100\n",
      "455/455 [==============================] - 0s 90us/step - loss: 58.4984\n",
      "Epoch 70/100\n",
      "455/455 [==============================] - 0s 52us/step - loss: 56.5375\n",
      "Epoch 71/100\n",
      "455/455 [==============================] - 0s 47us/step - loss: 59.7578\n",
      "Epoch 72/100\n",
      "455/455 [==============================] - 0s 44us/step - loss: 56.8934\n",
      "Epoch 73/100\n",
      "455/455 [==============================] - 0s 35us/step - loss: 58.5731\n",
      "Epoch 74/100\n",
      "455/455 [==============================] - 0s 36us/step - loss: 57.5522\n",
      "Epoch 75/100\n",
      "455/455 [==============================] - 0s 70us/step - loss: 55.8531\n",
      "Epoch 76/100\n",
      "455/455 [==============================] - 0s 54us/step - loss: 57.2593\n",
      "Epoch 77/100\n",
      "455/455 [==============================] - 0s 104us/step - loss: 60.9517\n",
      "Epoch 78/100\n",
      "455/455 [==============================] - 0s 64us/step - loss: 60.6676\n",
      "Epoch 79/100\n",
      "455/455 [==============================] - 0s 61us/step - loss: 57.6606\n",
      "Epoch 80/100\n",
      "455/455 [==============================] - 0s 72us/step - loss: 57.6609\n",
      "Epoch 81/100\n",
      "455/455 [==============================] - 0s 86us/step - loss: 63.1802\n",
      "Epoch 82/100\n",
      "455/455 [==============================] - 0s 250us/step - loss: 55.8109\n",
      "Epoch 83/100\n",
      "455/455 [==============================] - 0s 87us/step - loss: 55.4877\n",
      "Epoch 84/100\n",
      "455/455 [==============================] - 0s 81us/step - loss: 60.4308\n",
      "Epoch 85/100\n",
      "455/455 [==============================] - 0s 83us/step - loss: 59.4210\n",
      "Epoch 86/100\n",
      "455/455 [==============================] - 0s 87us/step - loss: 63.9736\n",
      "Epoch 87/100\n",
      "455/455 [==============================] - 0s 83us/step - loss: 56.5688\n",
      "Epoch 88/100\n",
      "455/455 [==============================] - 0s 67us/step - loss: 57.6302\n",
      "Epoch 89/100\n",
      "455/455 [==============================] - 0s 307us/step - loss: 58.1270\n",
      "Epoch 90/100\n",
      "455/455 [==============================] - 0s 119us/step - loss: 61.3467\n",
      "Epoch 91/100\n",
      "455/455 [==============================] - 0s 117us/step - loss: 60.2639\n",
      "Epoch 92/100\n",
      "455/455 [==============================] - 0s 127us/step - loss: 56.3787\n",
      "Epoch 93/100\n",
      "455/455 [==============================] - 0s 41us/step - loss: 55.3258\n",
      "Epoch 94/100\n"
     ]
    },
    {
     "name": "stdout",
     "output_type": "stream",
     "text": [
      "455/455 [==============================] - 0s 42us/step - loss: 56.5631\n",
      "Epoch 95/100\n",
      "455/455 [==============================] - 0s 381us/step - loss: 54.9228\n",
      "Epoch 96/100\n",
      "455/455 [==============================] - 0s 53us/step - loss: 57.1556\n",
      "Epoch 97/100\n",
      "455/455 [==============================] - 0s 41us/step - loss: 58.2812\n",
      "Epoch 98/100\n",
      "455/455 [==============================] - 0s 42us/step - loss: 54.7377\n",
      "Epoch 99/100\n",
      "455/455 [==============================] - 0s 383us/step - loss: 56.8124\n",
      "Epoch 100/100\n",
      "455/455 [==============================] - 0s 97us/step - loss: 61.9228\n"
     ]
    },
    {
     "data": {
      "text/plain": [
       "<keras.callbacks.callbacks.History at 0x12e78b610>"
      ]
     },
     "execution_count": 11,
     "metadata": {},
     "output_type": "execute_result"
    }
   ],
   "source": [
    "model.fit(x_train, y_train, epochs=100)"
   ]
  },
  {
   "cell_type": "markdown",
   "metadata": {},
   "source": [
    "# Evaluation\n",
    "Now that we have trained our model we can evaluate it on our testing set. It is also just one line of code."
   ]
  },
  {
   "cell_type": "code",
   "execution_count": 12,
   "metadata": {},
   "outputs": [
    {
     "name": "stdout",
     "output_type": "stream",
     "text": [
      "Loss:  74.81699879964192\n"
     ]
    }
   ],
   "source": [
    "print(\"Loss: \", model.evaluate(x_test, y_test, verbose=0))"
   ]
  },
  {
   "cell_type": "markdown",
   "metadata": {},
   "source": [
    "This loss might seem very high and it is, mostly because there aren't very many training points in the dataset (also no effort was put into finding the best model)."
   ]
  },
  {
   "cell_type": "markdown",
   "metadata": {},
   "source": [
    "We can also generate predictions for new data that we don't have labels for. Since we don't have new data, I will just demonstrate the idea with our testing data."
   ]
  },
  {
   "cell_type": "code",
   "execution_count": 13,
   "metadata": {
    "scrolled": true
   },
   "outputs": [
    {
     "name": "stdout",
     "output_type": "stream",
     "text": [
      "[[25.05013 ]\n",
      " [20.20157 ]\n",
      " [23.80274 ]\n",
      " [26.806147]\n",
      " [26.63223 ]\n",
      " [20.371765]\n",
      " [27.153915]\n",
      " [30.241705]\n",
      " [26.131834]\n",
      " [20.786337]\n",
      " [20.482264]\n",
      " [16.534788]\n",
      " [23.767342]\n",
      " [25.795898]\n",
      " [30.455538]\n",
      " [18.951426]\n",
      " [29.462748]\n",
      " [18.490648]\n",
      " [20.020727]\n",
      " [20.747095]\n",
      " [27.148705]\n",
      " [20.82327 ]\n",
      " [19.13564 ]\n",
      " [27.309671]\n",
      " [25.261988]\n",
      " [25.820044]\n",
      " [25.955698]\n",
      " [30.080809]\n",
      " [19.563265]\n",
      " [24.690153]\n",
      " [26.722256]\n",
      " [25.20492 ]\n",
      " [20.30756 ]\n",
      " [24.794573]\n",
      " [24.675669]\n",
      " [20.566858]\n",
      " [24.476704]\n",
      " [25.370024]\n",
      " [21.186638]\n",
      " [25.418484]\n",
      " [27.35898 ]\n",
      " [26.953484]\n",
      " [27.281431]\n",
      " [30.277826]\n",
      " [22.524582]\n",
      " [26.346441]\n",
      " [20.594675]\n",
      " [24.788336]\n",
      " [23.50717 ]\n",
      " [24.706747]\n",
      " [19.85732 ]]\n"
     ]
    }
   ],
   "source": [
    "y_predicted = model.predict(x_test)\n",
    "print(y_predicted)"
   ]
  },
  {
   "cell_type": "markdown",
   "metadata": {},
   "source": [
    "That's it. We have successfully (depending on your definition of success) built a fully connected neural network and trained that network on a dataset. Now it's your turn!"
   ]
  },
  {
   "cell_type": "markdown",
   "metadata": {
    "collapsed": true
   },
   "source": [
    "# Problem 1: Image Classification\n",
    "We are going to build a convolutional neural network to predict image classes on CIFAR-10, a dataset of images of 10 different things (i.e. 10 classes). Things like airplanes, cars, deer, horses, etc. "
   ]
  },
  {
   "cell_type": "markdown",
   "metadata": {},
   "source": [
    "**(a)** Load the cifar10 dataset from Keras. If you need a hint go to [Keras Datasets](https://keras.io/datasets). This might take a little while to download."
   ]
  },
  {
   "cell_type": "code",
   "execution_count": 14,
   "metadata": {},
   "outputs": [],
   "source": [
    "from keras.datasets import cifar10\n",
    "(cifar_x_train, cifar_y_train), (cifar_x_test, cifar_y_test) = cifar10.load_data()"
   ]
  },
  {
   "cell_type": "markdown",
   "metadata": {},
   "source": [
    "**(b)** Initialize a Sequential model"
   ]
  },
  {
   "cell_type": "code",
   "execution_count": 15,
   "metadata": {},
   "outputs": [],
   "source": [
    "cifar_model = Sequential()"
   ]
  },
  {
   "cell_type": "markdown",
   "metadata": {},
   "source": [
    "**(c)** Add a ``Conv2D`` layer to the model. It should have 32 filters, a 5x5 kernel, and a 1x1 stride. The documentation [here](https://keras.io/layers/convolutional/#conv2d) will be your friend for this problem. __Hint:__ This is the first layer of the model so you have to specify the input shape. I recommend printing ``cifar_x_train.shape``, to get an idea of what the shape of the data looks like. Then add a ```relu``` activation layer to the model."
   ]
  },
  {
   "cell_type": "code",
   "execution_count": 16,
   "metadata": {},
   "outputs": [
    {
     "name": "stdout",
     "output_type": "stream",
     "text": [
      "(50000, 32, 32, 3)\n"
     ]
    }
   ],
   "source": [
    "from keras.layers.convolutional import Conv2D\n",
    "print(cifar_x_train.shape)\n",
    "cifar_model.add(Conv2D(32, 5, activation='relu',input_shape=(32, 32, 3)))"
   ]
  },
  {
   "cell_type": "markdown",
   "metadata": {},
   "source": [
    "**(d)** Add a ``MaxPooling2D`` layer to the model. The layer should have a 2x2 pool size. The documentation for Max Pooling is [here](https://keras.io/layers/pooling/)."
   ]
  },
  {
   "cell_type": "code",
   "execution_count": 17,
   "metadata": {},
   "outputs": [
    {
     "name": "stdout",
     "output_type": "stream",
     "text": [
      "WARNING:tensorflow:From /opt/anaconda3/envs/nmep/lib/python3.7/site-packages/keras/backend/tensorflow_backend.py:4070: The name tf.nn.max_pool is deprecated. Please use tf.nn.max_pool2d instead.\n",
      "\n"
     ]
    }
   ],
   "source": [
    "from keras.layers.pooling import MaxPooling2D\n",
    "cifar_model.add(MaxPooling2D())"
   ]
  },
  {
   "cell_type": "markdown",
   "metadata": {},
   "source": [
    "**(e)** Add another ``Conv2D`` identical to last one, then another ``relu`` activation, then another ``MaxPooling2D`` layer. __Hint:__ You've already written this code"
   ]
  },
  {
   "cell_type": "code",
   "execution_count": 18,
   "metadata": {},
   "outputs": [],
   "source": [
    "cifar_model.add(Conv2D(32, 5, activation='relu'))\n",
    "cifar_model.add(MaxPooling2D())"
   ]
  },
  {
   "cell_type": "markdown",
   "metadata": {},
   "source": [
    "**(f)** Add another ``Conv2D`` layer identical to the others except with 64 filters instead of 32. Add another ``relu`` activation layer."
   ]
  },
  {
   "cell_type": "code",
   "execution_count": 19,
   "metadata": {},
   "outputs": [],
   "source": [
    "cifar_model.add(Conv2D(64, 5, activation='relu'))"
   ]
  },
  {
   "cell_type": "markdown",
   "metadata": {},
   "source": [
    "**(g)** Now we want to move from 2D data to 1D vectors for classification, to this we have to flatten the data. Keras has a layer for this called [Flatten](https://keras.io/layers/core/#flatten). Then add a ``Dense`` (fully connected) layer with 64 neurons, a ``relu`` activation layer, another ``Dense`` layer with 10 neurons, and a ``softmax`` activation layer."
   ]
  },
  {
   "cell_type": "code",
   "execution_count": 20,
   "metadata": {},
   "outputs": [],
   "source": [
    "from keras.layers import Flatten\n",
    "cifar_model.add(Flatten())\n",
    "cifar_model.add(Dense(64, activation='relu'))\n",
    "cifar_model.add(Dense(10, activation='softmax'))"
   ]
  },
  {
   "cell_type": "markdown",
   "metadata": {},
   "source": [
    "Notice that we have constructed a network that takes in an image and outputs a vector of 10 numbers and then we take the softmax of these, which leaves us with a vector of 0s except 1 one and the location of this one in the vector corresponds to which class the network is predicting for that image. This is sort of the canonical way of doing image classification."
   ]
  },
  {
   "cell_type": "markdown",
   "metadata": {},
   "source": [
    "**(h)** Now print a summary of your network."
   ]
  },
  {
   "cell_type": "code",
   "execution_count": 21,
   "metadata": {},
   "outputs": [
    {
     "name": "stdout",
     "output_type": "stream",
     "text": [
      "Model: \"sequential_2\"\n",
      "_________________________________________________________________\n",
      "Layer (type)                 Output Shape              Param #   \n",
      "=================================================================\n",
      "conv2d_1 (Conv2D)            (None, 28, 28, 32)        2432      \n",
      "_________________________________________________________________\n",
      "max_pooling2d_1 (MaxPooling2 (None, 14, 14, 32)        0         \n",
      "_________________________________________________________________\n",
      "conv2d_2 (Conv2D)            (None, 10, 10, 32)        25632     \n",
      "_________________________________________________________________\n",
      "max_pooling2d_2 (MaxPooling2 (None, 5, 5, 32)          0         \n",
      "_________________________________________________________________\n",
      "conv2d_3 (Conv2D)            (None, 1, 1, 64)          51264     \n",
      "_________________________________________________________________\n",
      "flatten_1 (Flatten)          (None, 64)                0         \n",
      "_________________________________________________________________\n",
      "dense_3 (Dense)              (None, 64)                4160      \n",
      "_________________________________________________________________\n",
      "dense_4 (Dense)              (None, 10)                650       \n",
      "=================================================================\n",
      "Total params: 84,138\n",
      "Trainable params: 84,138\n",
      "Non-trainable params: 0\n",
      "_________________________________________________________________\n"
     ]
    }
   ],
   "source": [
    "cifar_model.summary()"
   ]
  },
  {
   "cell_type": "markdown",
   "metadata": {},
   "source": [
    "**(i)** We need to convert our labels from integers to length 10 vectors with 9 zeros and 1 one, where the integer label is the index of the 1 in the vector. Luckily, Keras has a handy function to do this for us. Have a look [here](https://keras.io/utils/#to_categorical)."
   ]
  },
  {
   "cell_type": "code",
   "execution_count": 22,
   "metadata": {},
   "outputs": [],
   "source": [
    "from keras.utils import to_categorical\n",
    "y_train_cat = to_categorical(cifar_y_train, num_classes=10)\n",
    "y_test_cat = to_categorical(cifar_y_test, num_classes=10)"
   ]
  },
  {
   "cell_type": "markdown",
   "metadata": {},
   "source": [
    "**(j)** Now compile the model with SGD optimizer and categorical_crossentropy loss function and also include ``metrics=['accuracy']`` as a parameter so we can see the accuracy of the model. Then train the model on the training data. For training we want to weight the classes in the loss function, so set the ``class_weight`` parameter of fit to be the ``class_weights`` dictionary. Be warned training can take forever, I trained on a cpu for 20 epochs (about 30 minutes) and only got 20% accuracy. For the purposes of this assignment, you don't need to worry to much about accuracy, just train for at least 1 epoch."
   ]
  },
  {
   "cell_type": "code",
   "execution_count": 23,
   "metadata": {},
   "outputs": [],
   "source": [
    "cifar_model.compile(optimizer='SGD', loss='categorical_crossentropy', metrics=['accuracy'])"
   ]
  },
  {
   "cell_type": "code",
   "execution_count": 24,
   "metadata": {},
   "outputs": [
    {
     "name": "stdout",
     "output_type": "stream",
     "text": [
      "Epoch 1/5\n",
      "50000/50000 [==============================] - 75s 2ms/step - loss: 0.0013 - accuracy: 0.1219\n",
      "Epoch 2/5\n",
      "50000/50000 [==============================] - 70s 1ms/step - loss: 6.7436e-04 - accuracy: 0.1393\n",
      "Epoch 3/5\n",
      "50000/50000 [==============================] - 68s 1ms/step - loss: 5.8962e-04 - accuracy: 0.1498\n",
      "Epoch 4/5\n",
      "50000/50000 [==============================] - 71s 1ms/step - loss: 5.4741e-04 - accuracy: 0.1584\n",
      "Epoch 5/5\n",
      "50000/50000 [==============================] - 65s 1ms/step - loss: 5.2172e-04 - accuracy: 0.1652\n"
     ]
    },
    {
     "data": {
      "text/plain": [
       "<keras.callbacks.callbacks.History at 0x13c0b2ed0>"
      ]
     },
     "execution_count": 24,
     "metadata": {},
     "output_type": "execute_result"
    }
   ],
   "source": [
    "class_weights = {}\n",
    "for i in range(10):\n",
    "    class_weights[i] = 1. / np.where(cifar_y_train==i)[0].size\n",
    "\n",
    "cifar_model.fit(cifar_x_train, y_train_cat, class_weight=class_weights, epochs=5)"
   ]
  },
  {
   "cell_type": "markdown",
   "metadata": {},
   "source": [
    "Now we can evaluate on our test set."
   ]
  },
  {
   "cell_type": "code",
   "execution_count": 25,
   "metadata": {},
   "outputs": [
    {
     "name": "stdout",
     "output_type": "stream",
     "text": [
      "10000/10000 [==============================] - 3s 288us/step\n"
     ]
    },
    {
     "data": {
      "text/plain": [
       "[2.5484515804290773, 0.17219999432563782]"
      ]
     },
     "execution_count": 25,
     "metadata": {},
     "output_type": "execute_result"
    }
   ],
   "source": [
    "cifar_model.evaluate(cifar_x_test, y_test_cat)"
   ]
  },
  {
   "cell_type": "markdown",
   "metadata": {},
   "source": [
    "We can also get the class labels the network predicts on our test set and look at a few examples."
   ]
  },
  {
   "cell_type": "code",
   "execution_count": 26,
   "metadata": {},
   "outputs": [
    {
     "name": "stdout",
     "output_type": "stream",
     "text": [
      "Predicted label:  0\n",
      "True label:  [1]\n"
     ]
    },
    {
     "data": {
      "image/png": "[encoded data removed]",
      "text/plain": [
       "<Figure size 432x288 with 1 Axes>"
      ]
     },
     "metadata": {
      "needs_background": "light"
     },
     "output_type": "display_data"
    }
   ],
   "source": [
    "y_pred = cifar_model.predict(cifar_x_test)\n",
    "import matplotlib.pyplot as plt\n",
    "%matplotlib inline\n",
    "plt.imshow(cifar_x_test[1234])\n",
    "print(\"Predicted label: \", np.argmax(y_pred[1234]))\n",
    "print(\"True label: \", cifar_y_test[1234])"
   ]
  },
  {
   "cell_type": "markdown",
   "metadata": {},
   "source": [
    "# Problem 2: Sentiment Classification"
   ]
  },
  {
   "cell_type": "markdown",
   "metadata": {},
   "source": [
    "In this problem we will use Kera's imdb sentiment dataset. You will take in sequences of words and use an RNN to try to classify the sequences sentiment. First we have to process the data a little bit, so that we have fixed length sequences."
   ]
  },
  {
   "cell_type": "code",
   "execution_count": 27,
   "metadata": {},
   "outputs": [
    {
     "name": "stderr",
     "output_type": "stream",
     "text": [
      "/opt/anaconda3/envs/nmep/lib/python3.7/site-packages/keras/datasets/imdb.py:101: VisibleDeprecationWarning: Creating an ndarray from ragged nested sequences (which is a list-or-tuple of lists-or-tuples-or ndarrays with different lengths or shapes) is deprecated. If you meant to do this, you must specify 'dtype=object' when creating the ndarray\n",
      "  x_train, y_train = np.array(xs[:idx]), np.array(labels[:idx])\n",
      "/opt/anaconda3/envs/nmep/lib/python3.7/site-packages/keras/datasets/imdb.py:102: VisibleDeprecationWarning: Creating an ndarray from ragged nested sequences (which is a list-or-tuple of lists-or-tuples-or ndarrays with different lengths or shapes) is deprecated. If you meant to do this, you must specify 'dtype=object' when creating the ndarray\n",
      "  x_test, y_test = np.array(xs[idx:]), np.array(labels[idx:])\n"
     ]
    }
   ],
   "source": [
    "from keras.datasets import imdb\n",
    "(x_train, y_train), (x_test, y_test) = imdb.load_data(num_words=1000, maxlen=200)"
   ]
  },
  {
   "cell_type": "code",
   "execution_count": 28,
   "metadata": {},
   "outputs": [],
   "source": [
    "def process_data(data):\n",
    "    processed = np.zeros(len(data) * 200).reshape((len(data), 200))\n",
    "    for i, seq in enumerate(data):\n",
    "        if len(seq) < 200:\n",
    "            processed[i] = np.array(seq + [0 for _ in range(200 - len(seq))])\n",
    "        else:\n",
    "            processed[i] = np.array(seq)\n",
    "    return processed"
   ]
  },
  {
   "cell_type": "code",
   "execution_count": 29,
   "metadata": {},
   "outputs": [
    {
     "name": "stdout",
     "output_type": "stream",
     "text": [
      "(3913, 200)\n"
     ]
    }
   ],
   "source": [
    "x_train_proc = process_data(x_train)\n",
    "x_test_proc = process_data(x_test)\n",
    "print(x_test_proc.shape)"
   ]
  },
  {
   "cell_type": "markdown",
   "metadata": {},
   "source": [
    "The Embedding Layer is a little bit different from most of the layers, so we have provided that code for you below. Basically, the 1000 means that we are using a vocabulary size of 1000, the 32 means we will have a vector of size 32 as the output, and the `mask_zero` means that we don't care about 0 because we are using it for padding."
   ]
  },
  {
   "cell_type": "code",
   "execution_count": 30,
   "metadata": {},
   "outputs": [],
   "source": [
    "imdb_model = Sequential()"
   ]
  },
  {
   "cell_type": "code",
   "execution_count": 31,
   "metadata": {},
   "outputs": [],
   "source": [
    "from keras.layers.embeddings import Embedding\n",
    "imdb_model.add(Embedding(1000, 32, input_length=200, mask_zero=True))"
   ]
  },
  {
   "cell_type": "markdown",
   "metadata": {},
   "source": [
    "**(a)** For this problem, I won't walk you everything like I did in the last one. What you need to do is as follows. Add an LSTM layer with 32 outputs, then a Dense layer with 32 neurons, then a relu activation, then a dense layer with 1 neuron, then a sigmoid activation. Then you should print out the model summary."
   ]
  },
  {
   "cell_type": "code",
   "execution_count": 32,
   "metadata": {},
   "outputs": [
    {
     "name": "stdout",
     "output_type": "stream",
     "text": [
      "WARNING:tensorflow:From /opt/anaconda3/envs/nmep/lib/python3.7/site-packages/tensorflow/python/keras/backend.py:3794: add_dispatch_support.<locals>.wrapper (from tensorflow.python.ops.array_ops) is deprecated and will be removed in a future version.\n",
      "Instructions for updating:\n",
      "Use tf.where in 2.0, which has the same broadcast rule as np.where\n"
     ]
    }
   ],
   "source": [
    "from keras.layers import LSTM\n",
    "imdb_model.add(LSTM(32))\n",
    "imdb_model.add(Dense(32, activation='relu'))\n",
    "imdb_model.add(Dense(1, activation='sigmoid'))"
   ]
  },
  {
   "cell_type": "markdown",
   "metadata": {},
   "source": [
    "**(b)** Now compile the model with binary cross entropy, and the Adam optimizer. Also include accuracy as a metric in the compile. Then train the model on the processed data (no need to worry about class weights this time)"
   ]
  },
  {
   "cell_type": "code",
   "execution_count": 33,
   "metadata": {},
   "outputs": [
    {
     "name": "stdout",
     "output_type": "stream",
     "text": [
      "Epoch 1/5\n",
      "25000/25000 [==============================] - 106s 4ms/step - loss: 0.4075 - accuracy: 0.8114\n",
      "Epoch 2/5\n",
      "25000/25000 [==============================] - 121s 5ms/step - loss: 0.3144 - accuracy: 0.8661\n",
      "Epoch 3/5\n",
      "25000/25000 [==============================] - 123s 5ms/step - loss: 0.2909 - accuracy: 0.8772\n",
      "Epoch 4/5\n",
      "25000/25000 [==============================] - 124s 5ms/step - loss: 0.2735 - accuracy: 0.8867\n",
      "Epoch 5/5\n",
      "25000/25000 [==============================] - 103s 4ms/step - loss: 0.2624 - accuracy: 0.8908\n"
     ]
    },
    {
     "data": {
      "text/plain": [
       "<keras.callbacks.callbacks.History at 0x1487bd550>"
      ]
     },
     "execution_count": 33,
     "metadata": {},
     "output_type": "execute_result"
    }
   ],
   "source": [
    "imdb_model.compile(optimizer='Adam', loss='binary_crossentropy', metrics=['accuracy'])\n",
    "imdb_model.fit(x_train_proc, y_train, epochs=5)"
   ]
  },
  {
   "cell_type": "markdown",
   "metadata": {},
   "source": [
    "After training we can evaluate our model on the test set."
   ]
  },
  {
   "cell_type": "code",
   "execution_count": 34,
   "metadata": {},
   "outputs": [
    {
     "name": "stdout",
     "output_type": "stream",
     "text": [
      "3913/3913 [==============================] - 3s 875us/step\n",
      "Accuracy:  0.8676207661628723\n"
     ]
    }
   ],
   "source": [
    "print(\"Accuracy: \", imdb_model.evaluate(x_test_proc, y_test)[1])"
   ]
  },
  {
   "cell_type": "markdown",
   "metadata": {},
   "source": [
    "Now we can look at our predictions and the sentences they correspond to."
   ]
  },
  {
   "cell_type": "code",
   "execution_count": 35,
   "metadata": {},
   "outputs": [],
   "source": [
    "y_pred = imdb_model.predict(x_test_proc)"
   ]
  },
  {
   "cell_type": "code",
   "execution_count": 36,
   "metadata": {},
   "outputs": [
    {
     "name": "stdout",
     "output_type": "stream",
     "text": [
      "Downloading data from https://s3.amazonaws.com/text-datasets/imdb_word_index.json\n",
      "1646592/1641221 [==============================] - 0s 0us/step\n",
      "['the', 'is', 'and', 'much', 'way', 'you', 'film', 'and', 'love', 'development', \"you'll\", 'to', 'and', 'i', 'i', 'is', 'and', 'talking', 'and', 'acting', 'his', 'when', 'would', 'nature', 'to', 'gave', 'in', '20', 'about', 'and', 'in', 'team', 'and', 'about', 'and', 'in', 'footage', 'american', 'film', 'about', 'editing', 'this', 'and', 'would', 'find', 'good', 'and', 'and', 'or', 'and', 'god', 'to', 'and']\n"
     ]
    }
   ],
   "source": [
    "y_pred = np.vectorize(lambda x: int(x >= 0.5))(y_pred)\n",
    "correct = []\n",
    "incorrect = []\n",
    "for i, pred in enumerate(y_pred):\n",
    "    if y_test[i] == pred:\n",
    "        correct.append(i)\n",
    "    else:\n",
    "        incorrect.append(i)\n",
    "word_dict = inv_map = {v: k for k, v in imdb.get_word_index().items()}\n",
    "\n",
    "print(list(map(lambda x: word_dict[int(x)] if x != 0 else None, x_test[correct[123]])))"
   ]
  },
  {
   "cell_type": "markdown",
   "metadata": {},
   "source": [
    "After making this I realized that `keras`'s method for converting from word index back to words is broken right now (see this open [github issue](https://github.com/fchollet/keras/issues/5912)). So we can't actually see what the sentences look like."
   ]
  }
 ],
 "metadata": {
  "anaconda-cloud": {},
  "kernelspec": {
   "display_name": "nmep",
   "language": "python",
   "name": "nmep"
  },
  "language_info": {
   "codemirror_mode": {
    "name": "ipython",
    "version": 3
   },
   "file_extension": ".py",
   "mimetype": "text/x-python",
   "name": "python",
   "nbconvert_exporter": "python",
   "pygments_lexer": "ipython3",
   "version": "3.7.10"
  }
 },
 "nbformat": 4,
 "nbformat_minor": 1
}
